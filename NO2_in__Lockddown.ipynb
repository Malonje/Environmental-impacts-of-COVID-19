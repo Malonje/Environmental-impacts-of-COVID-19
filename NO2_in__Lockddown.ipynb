{
  "nbformat": 4,
  "nbformat_minor": 0,
  "metadata": {
    "colab": {
      "name": "NO2_in _Lockddown.ipynb",
      "provenance": []
    },
    "kernelspec": {
      "name": "python3",
      "display_name": "Python 3"
    },
    "language_info": {
      "name": "python"
    }
  },
  "cells": [
    {
      "cell_type": "code",
      "metadata": {
        "id": "uV57sQHpCXca"
      },
      "source": [
        "%pip install geopandas rasterio rasterstats shapely fiona ipyleaflet geemap\n",
        "%pip install folium earthengine-api\n",
        "%pip install scikit-learn"
      ],
      "execution_count": 5,
      "outputs": []
    },
    {
      "cell_type": "code",
      "metadata": {
        "id": "gEG8QpqBCbIe"
      },
      "source": [
        "from os import path as op\n",
        "import pickle\n",
        "import fiona\n",
        "import geemap\n",
        "import ipyleaflet\n",
        "import geopandas as gpd\n",
        "import shapely as shp\n",
        "import matplotlib.pyplot as plt\n",
        "import numpy as np\n",
        "import rasterio\n",
        "from rasterio.features import rasterize\n",
        "from rasterstats.io import bounds_window\n",
        "import rasterstats\n",
        "import folium\n"
      ],
      "execution_count": 6,
      "outputs": []
    },
    {
      "cell_type": "code",
      "metadata": {
        "id": "QieHWYXZEta1",
        "colab": {
          "base_uri": "https://localhost:8080/"
        },
        "outputId": "0a54fa6f-a877-42cd-d5bd-c25588171fcc"
      },
      "source": [
        "from google.colab import drive\n",
        "drive.mount('/content/drive/', force_remount=True)"
      ],
      "execution_count": 7,
      "outputs": [
        {
          "output_type": "stream",
          "name": "stdout",
          "text": [
            "Mounted at /content/drive/\n"
          ]
        }
      ]
    },
    {
      "cell_type": "code",
      "metadata": {
        "id": "XUItRNz8YlD0",
        "colab": {
          "base_uri": "https://localhost:8080/"
        },
        "outputId": "1cddfb79-bb85-468e-db61-8d5451e987b0"
      },
      "source": [
        "!earthengine authenticate\n",
        "import ee \n",
        "ee.Initialize()"
      ],
      "execution_count": 8,
      "outputs": [
        {
          "output_type": "stream",
          "name": "stdout",
          "text": [
            "WARNING:tensorflow:From /usr/local/lib/python3.7/dist-packages/tensorflow/python/compat/v2_compat.py:101: disable_resource_variables (from tensorflow.python.ops.variable_scope) is deprecated and will be removed in a future version.\n",
            "Instructions for updating:\n",
            "non-resource variables are not supported in the long term\n",
            "To authorize access needed by Earth Engine, open the following URL in a web browser and follow the instructions. If the web browser does not start automatically, please manually browse the URL below.\n",
            "\n",
            "    https://accounts.google.com/o/oauth2/auth?client_id=517222506229-vsmmajv00ul0bs7p89v5m89qs8eb9359.apps.googleusercontent.com&scope=https%3A%2F%2Fwww.googleapis.com%2Fauth%2Fearthengine+https%3A%2F%2Fwww.googleapis.com%2Fauth%2Fdevstorage.full_control&redirect_uri=urn%3Aietf%3Awg%3Aoauth%3A2.0%3Aoob&response_type=code&code_challenge=B2ZX9n6Xf_6LAC9xpHZdtyl6MfvowqfCg-NqjDRLWww&code_challenge_method=S256\n",
            "\n",
            "The authorization workflow will generate a code, which you should paste in the box below. \n",
            "Enter verification code: 4/1AX4XfWgDtWQTo4z2eq0GSjVq5UkvElev_Pih0kevX4BARx0GddbO9NTSRgY\n",
            "\n",
            "Successfully saved authorization token.\n"
          ]
        }
      ]
    },
    {
      "cell_type": "code",
      "metadata": {
        "id": "bevkxQyvEtjS"
      },
      "source": [
        "my_root_dir = \"/content/drive/My Drive/\""
      ],
      "execution_count": 9,
      "outputs": []
    },
    {
      "cell_type": "code",
      "metadata": {
        "id": "Ff8vISNUQefb"
      },
      "source": [
        "c = fiona.open('/content/drive/My Drive/Colab Notebooks/data/ind_shape/ind_shape.shp')\n",
        "#xx=ee.FeatureCollection(c)\n",
        "polygons = []\n",
        "\n",
        "for row in c:\n",
        "  polygons.append(row['geometry']['coordinates'])"
      ],
      "execution_count": 10,
      "outputs": []
    },
    {
      "cell_type": "code",
      "metadata": {
        "id": "yXidJ9xoM8X2"
      },
      "source": [
        "aoi=ee.Geometry.Polygon(polygons[0])"
      ],
      "execution_count": 11,
      "outputs": []
    },
    {
      "cell_type": "code",
      "metadata": {
        "id": "d7T3JsUpZFAw"
      },
      "source": [
        "s2=ee.ImageCollection('COPERNICUS/S5P/NRTI/L3_NO2')\n",
        "collection = s2.select('NO2_column_number_density').filterBounds(aoi)\n",
        "def display_(start_date,end_date,i):\n",
        "  cc=collection.filterDate(start_date, end_date).mean()\n",
        "  clip=cc.clip(aoi)\n",
        "  clip_mean=clip.reduce(ee.Reducer.mean())\n",
        "  # Display the NO2 level in India.\n",
        "  str1='NO2 Concentration before Lockdown from Jan 01 to jan 30'\n",
        "  str2='NO2 Concentration During Lockdown from June 01 to june 30'\n",
        "  str3='NO2 Concentration After Lockdown from Dec 01 to Dec 30'\n",
        "  if i==1:\n",
        "    print(str1)\n",
        "  if i==2:\n",
        "    print(str2)\n",
        "  if i==3:\n",
        "    print(str3)\n",
        "  from IPython.display import Image\n",
        "  # Create a URL to the styled image for a region around France.\n",
        "  url = clip_mean.getThumbUrl({'min': 0.00, 'max': 0.00017, 'dimensions': 512, 'region': aoi, 'palette':['black','blue','purple','cyan','green','yellow','red']})\n",
        "  return url\n",
        "\n"
      ],
      "execution_count": 22,
      "outputs": []
    },
    {
      "cell_type": "code",
      "metadata": {
        "colab": {
          "base_uri": "https://localhost:8080/",
          "height": 549
        },
        "id": "IOfLFomC-5nd",
        "outputId": "6e723341-a4e0-40ee-a1d2-11f17ec50003"
      },
      "source": [
        "from IPython.display import Image\n",
        "Image(url=display_('2020-01-01','2020-01-30',1))\n"
      ],
      "execution_count": 23,
      "outputs": [
        {
          "output_type": "stream",
          "name": "stdout",
          "text": [
            "NO2 Concentration before Lockdown from Jan 01 to jan 30\n"
          ]
        },
        {
          "output_type": "execute_result",
          "data": {
            "text/html": [
              "<img src=\"https://earthengine.googleapis.com/v1alpha/projects/earthengine-legacy/thumbnails/cfafb9ba343b9d6fcb4e20b41d196d78-58040eb6799a21cdf55e7486f5907d19:getPixels\"/>"
            ],
            "text/plain": [
              "<IPython.core.display.Image object>"
            ]
          },
          "metadata": {},
          "execution_count": 23
        }
      ]
    },
    {
      "cell_type": "code",
      "metadata": {
        "colab": {
          "base_uri": "https://localhost:8080/",
          "height": 549
        },
        "id": "tO7Od_EHBrIR",
        "outputId": "bd3927ee-3e88-41fe-dceb-787ae5754e61"
      },
      "source": [
        "Image(url=display_('2020-06-01','2020-06-30',2))\n"
      ],
      "execution_count": 24,
      "outputs": [
        {
          "output_type": "stream",
          "name": "stdout",
          "text": [
            "NO2 Concentration During Lockdown from June 01 to june 30\n"
          ]
        },
        {
          "output_type": "execute_result",
          "data": {
            "text/html": [
              "<img src=\"https://earthengine.googleapis.com/v1alpha/projects/earthengine-legacy/thumbnails/5ea88f8fb7c7819a6fe8d39e23039e83-c496a05a080a230b87454453288a5c09:getPixels\"/>"
            ],
            "text/plain": [
              "<IPython.core.display.Image object>"
            ]
          },
          "metadata": {},
          "execution_count": 24
        }
      ]
    },
    {
      "cell_type": "code",
      "metadata": {
        "colab": {
          "base_uri": "https://localhost:8080/",
          "height": 549
        },
        "id": "vZKz3IBWBweJ",
        "outputId": "926bd04c-6ef0-4d09-9dd6-c8e30edff0a4"
      },
      "source": [
        "\n",
        "Image(url=display_('2020-12-01','2020-12-30',3))"
      ],
      "execution_count": 25,
      "outputs": [
        {
          "output_type": "stream",
          "name": "stdout",
          "text": [
            "NO2 Concentration After Lockdown from Dec 01 to Dec 30\n"
          ]
        },
        {
          "output_type": "execute_result",
          "data": {
            "text/html": [
              "<img src=\"https://earthengine.googleapis.com/v1alpha/projects/earthengine-legacy/thumbnails/b37cda2bbe447c877e91b26050e28469-d15f23c2c269e621c7231d4132ea9b52:getPixels\"/>"
            ],
            "text/plain": [
              "<IPython.core.display.Image object>"
            ]
          },
          "metadata": {},
          "execution_count": 25
        }
      ]
    },
    {
      "cell_type": "code",
      "metadata": {
        "id": "aBeMR70Q99xi"
      },
      "source": [
        "import pandas as pd\n"
      ],
      "execution_count": 36,
      "outputs": []
    },
    {
      "cell_type": "code",
      "metadata": {
        "id": "ah8sily3n9Pf"
      },
      "source": [
        "roi=ee.Geometry.Point(77.2308,28.6117).buffer(500)"
      ],
      "execution_count": 32,
      "outputs": []
    },
    {
      "cell_type": "code",
      "metadata": {
        "id": "U9I4fZbR2gvJ"
      },
      "source": [
        "def roi_mean(img):\n",
        "    mean = img.reduceRegion(reducer=ee.Reducer.mean(), geometry=roi, scale=30).get('NO2_column_number_density')\n",
        "    return img.set('date', img.date().format()).set('mean',mean)"
      ],
      "execution_count": 33,
      "outputs": []
    },
    {
      "cell_type": "code",
      "metadata": {
        "id": "XysSCzxczplo"
      },
      "source": [
        "def monthly_mean_NO2(m):\n",
        "  strt='2020-'+m+'-01'\n",
        "  end='2020-'+m+'-28'\n",
        "  collect=ee.ImageCollection('COPERNICUS/S5P/NRTI/L3_NO2').filterDate(strt,end)\n",
        "  roi_reduced_imgs = collect.map(roi_mean)\n",
        "  nested_list = roi_reduced_imgs.reduceColumns(ee.Reducer.toList(2), ['date','mean']).values().get(0)\n",
        "  df = pd.DataFrame(nested_list.getInfo(), columns=['date','mean'])\n",
        "\n",
        "  return (df['mean'].mean())"
      ],
      "execution_count": 34,
      "outputs": []
    },
    {
      "cell_type": "code",
      "metadata": {
        "id": "T4mCIUrkzGjG"
      },
      "source": [
        "no=[]\n",
        "month=['01','02','03','04','05','06','07','08','09','10','11','12']\n",
        "for i in range(12):\n",
        "  no.append(monthly_mean_NO2(month[i]))\n"
      ],
      "execution_count": 37,
      "outputs": []
    },
    {
      "cell_type": "code",
      "metadata": {
        "id": "TS794qphzJDs"
      },
      "source": [
        "y=no\n",
        "x=month"
      ],
      "execution_count": 38,
      "outputs": []
    },
    {
      "cell_type": "code",
      "metadata": {
        "id": "LQcflepozLwK",
        "colab": {
          "base_uri": "https://localhost:8080/",
          "height": 444
        },
        "outputId": "f07a6f7c-09c5-4d26-d94d-859eb6a4eaf3"
      },
      "source": [
        "from matplotlib import pyplot as plt\n",
        "plt.figure(figsize=(15,7))\n",
        "plt.plot(x,y)\n",
        "\n",
        "x_ticks = x\n",
        "x_labels = ['jan','feb','march','april','may','june','july','august','september','october','november','december']\n",
        "plt.xticks(ticks=x_ticks, labels=x_labels)\n",
        "\n",
        "plt.ylabel(\"Mean NO2 Concentration\")\n",
        "plt.title('NO2 IN CENTRAL DELHI REGION 2020')\n",
        "\n",
        "plt.show()"
      ],
      "execution_count": 39,
      "outputs": [
        {
          "output_type": "display_data",
          "data": {
            "image/png": "[encoded data removed]",
            "text/plain": [
              "<Figure size 1080x504 with 1 Axes>"
            ]
          },
          "metadata": {
            "needs_background": "light"
          }
        }
      ]
    },
    {
      "cell_type": "code",
      "metadata": {
        "id": "gjYrWt6j-bjV"
      },
      "source": [
        ""
      ],
      "execution_count": null,
      "outputs": []
    }
  ]
}